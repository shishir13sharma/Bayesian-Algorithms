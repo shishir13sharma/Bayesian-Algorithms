{
 "cells": [
  {
   "cell_type": "code",
   "execution_count": 1,
   "metadata": {
    "collapsed": true
   },
   "outputs": [],
   "source": [
    "import numpy as np\n",
    "import matplotlib.pyplot as plt\n",
    "from numpy.linalg import norm"
   ]
  },
  {
   "cell_type": "code",
   "execution_count": 2,
   "metadata": {
    "collapsed": true
   },
   "outputs": [],
   "source": [
    "class Kmeans():\n",
    "    \n",
    "    def __init__(self, K):\n",
    "        self.K = K  # Number of clusters\n",
    "        self.cluster_center = np.random.rand(K, 2)  # Randomly initialize cluster centers\n",
    "        \n",
    "    def update_Z(self, data):\n",
    "        # Update cluster assignment for each data point\n",
    "        \n",
    "        cost_fn = np.array([norm(data.X - self.cluster_center[i,:], axis=1) \\\n",
    "                            for i in range(self.K)])\n",
    "        cost_fn = np.transpose(cost_fn)\n",
    "        \n",
    "        Z = np.argmin(cost_fn, axis=1)               \n",
    "        return Z\n",
    "    \n",
    "    def update_cluster_means(self, data):\n",
    "        # Update cluster centers\n",
    "        \n",
    "        for k in range(self.K):\n",
    "            self.cluster_center[k] = np.sum(data.X[data.Z == k], axis=0)/(np.sum(data.Z == k)\\\n",
    "                                                                          + 1e-6)  \n",
    "            \n",
    "    def run_kmeans(self, complete_data):\n",
    "            \n",
    "        while True:            \n",
    "            Zold = complete_data.Z            \n",
    "            complete_data.Z = self.update_Z(complete_data)\n",
    "            self.update_cluster_means(complete_data)\n",
    "\n",
    "            if np.array_equal(complete_data.Z, Zold): # Stopping condition is no change in \n",
    "                break                                 # latent variable assignment                        \n",
    "\n",
    "        return complete_data\n",
    "    \n",
    "    def plot_kmeans(self, complete_data, title=None):\n",
    "        \n",
    "        plt.figure(figsize=(10,5))        \n",
    "        if title:\n",
    "            plt.title(title)\n",
    "        plt.xlabel('X1')\n",
    "        plt.ylabel('X2')\n",
    "        for i in range(complete_data.length):\n",
    "            plt.plot(complete_data.X[i,0], complete_data.X[i,1],clr[complete_data.Z[i]] + '.')\n",
    "        for k in range(K):\n",
    "            plt.plot(self.cluster_center[k,0], self.cluster_center[k,1], clr[k] + '^',\n",
    "                     markersize=12, markeredgecolor='k')    \n",
    "        plt.show()\n",
    "            \n",
    "class Data_tuple():\n",
    "    \n",
    "    def __init__(self, data, K):\n",
    "        self.length = data.shape[0]\n",
    "        self.X = data    \n",
    "        self.Z = np.random.randint(K, size=self.length)\n",
    "    "
   ]
  },
  {
   "cell_type": "code",
   "execution_count": null,
   "metadata": {
    "collapsed": true,
    "scrolled": false
   },
   "outputs": [],
   "source": [
    "clr = ['r','b', 'k', 'g']\n",
    "\n",
    "K = 4  ## Number of clusters\n",
    "data = np.random.normal(0, 5, size=[500,2])\n",
    "\n",
    "kmeans_alg = Kmeans(K)\n",
    "complete_data = Data_tuple(data, K)  # Latent Variable initialized randomly        \n",
    "kmeans_alg.plot_kmeans(complete_data, 'Initial plot of the clusters')\n",
    "\n",
    "complete_data = kmeans_alg.run_kmeans(complete_data)\n",
    "kmeans_alg.plot_kmeans(complete_data, 'Final plot of the clusters')\n",
    "\n",
    "print \"Final Centers on running Kmeans Algorithm \"\n",
    "print kmeans_alg.cluster_center"
   ]
  },
  {
   "cell_type": "markdown",
   "metadata": {},
   "source": [
    "![kmeans](gif\\kmeans.gif \"K-Means\")"
   ]
  }
 ],
 "metadata": {
  "kernelspec": {
   "display_name": "Python 2",
   "language": "python",
   "name": "python2"
  },
  "language_info": {
   "codemirror_mode": {
    "name": "ipython",
    "version": 2
   },
   "file_extension": ".py",
   "mimetype": "text/x-python",
   "name": "python",
   "nbconvert_exporter": "python",
   "pygments_lexer": "ipython2",
   "version": "2.7.15"
  }
 },
 "nbformat": 4,
 "nbformat_minor": 2
}
